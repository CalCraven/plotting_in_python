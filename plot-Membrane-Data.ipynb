{
  "cells": [
    {
      "cell_type": "markdown",
      "id": "bb3629c6",
      "metadata": {
        "id": "bb3629c6"
      },
      "source": [
        "<a href=\"https://colab.research.google.com/github/CalCraven/plotting_in_python/blob/main/plot-Membrane-Data.ipynb\" target=\"_parent\"><img src=\"https://colab.research.google.com/assets/colab-badge.svg\" alt=\"Open In Colab\"/></a>"
      ]
    },
    {
      "cell_type": "code",
      "source": [
        "!pip install -q condacolab\n",
        "import condacolab\n",
        "condacolab.install_miniforge()"
      ],
      "metadata": {
        "id": "JEdV_qoYww3L"
      },
      "id": "JEdV_qoYww3L",
      "execution_count": null,
      "outputs": []
    },
    {
      "cell_type": "code",
      "execution_count": null,
      "id": "2c78c869",
      "metadata": {
        "id": "2c78c869"
      },
      "outputs": [],
      "source": [
        "import condacolab\n",
        "condacolab.check()\n",
        "\n",
        "!conda install mamba -y\n",
        "!mamba install anaconda-client -n base -y\n",
        "\n",
        "!git clone https://github.com/CalCraven/plotting_in_python.git\n",
        "%cd plotting_in_python\n",
        "\n",
        "%cd ..\n",
        "!pip install --upgrade ipykernel -y\n",
        "\n",
        "!mamba install -c conda-forge pandas plotly matplotlib numpy openpyxl jupyterlab kaleido -y"
      ]
    },
    {
      "cell_type": "markdown",
      "source": [
        "## Computer DataTypes in Python"
      ],
      "metadata": {
        "id": "QREBDKQYy1QI"
      },
      "id": "QREBDKQYy1QI"
    },
    {
      "cell_type": "code",
      "execution_count": null,
      "id": "feb41479",
      "metadata": {
        "id": "feb41479"
      },
      "outputs": [],
      "source": [
        "# numeric types:\n",
        "a = 5\n",
        "print(\"Type of a: \", type(a))\n",
        "\n",
        "b = 5.0\n",
        "print(\"\\nType of b: \", type(b))\n",
        "\n",
        "c = 2 + 4j\n",
        "print(\"\\nType of c: \", type(c))\n"
      ]
    },
    {
      "cell_type": "code",
      "source": [
        "# string types:\n",
        "String1 = 'Welcome to the Geeks World'\n",
        "print(\"String with the use of Single Quotes: \")\n",
        "print(String1)\n",
        "String1 = \"I'm a Geek\"\n",
        "print(\"\\nString with the use of Double Quotes: \")\n",
        "print(String1)\n",
        "print(type(String1))\n",
        "String1 = '''I'm a Geek and I live in a world of \"Geeks\"'''\n",
        "print(\"\\nString with the use of Triple Quotes: \")\n",
        "print(String1)\n",
        "print(type(String1))\n",
        "\n",
        "String1 = '''Geeks\n",
        "            For\n",
        "            Life'''\n",
        "print(\"\\nCreating a multiline String: \")\n",
        "print(String1)"
      ],
      "metadata": {
        "id": "7y1F9r_4yt4Q"
      },
      "id": "7y1F9r_4yt4Q",
      "execution_count": null,
      "outputs": []
    },
    {
      "cell_type": "code",
      "source": [
        "# container types:\n",
        "List = []\n",
        "print(\"Initial blank List: \")\n",
        "print(List)\n",
        "List = ['GeeksForGeeks']\n",
        "print(\"\\nList with the use of String: \")\n",
        "print(List)\n",
        "List = [\"Geeks\", \"For\", \"Geeks\"]\n",
        "print(\"\\nList containing multiple values: \")\n",
        "print(List[0])\n",
        "print(List[2])\n",
        "List = [['Geeks', 'For'], ['Geeks']]\n",
        "print(\"\\nMulti-Dimensional List: \")\n",
        "print(List)"
      ],
      "metadata": {
        "id": "eElsoyLcyy-R"
      },
      "id": "eElsoyLcyy-R",
      "execution_count": null,
      "outputs": []
    },
    {
      "cell_type": "code",
      "source": [
        "# accessing containers\n",
        "List = [\"Geeks\", \"For\", \"Geeks\"]\n",
        "print(\"Accessing element from the list\")\n",
        "print(List[0])\n",
        "print(List[2])\n",
        "print(\"Accessing element using negative indexing\")\n",
        "print(List[-1])\n",
        "print(List[-3])"
      ],
      "metadata": {
        "id": "kyhT_LGMzaBy"
      },
      "id": "kyhT_LGMzaBy",
      "execution_count": null,
      "outputs": []
    },
    {
      "cell_type": "code",
      "source": [
        "# Numpy (importing pacakges)\n",
        "import numpy as np\n",
        "\n",
        "List = [\"Geeks\", \"For\", \"Geeks\"]\n",
        "Array = np.array(List)\n",
        "\n",
        "print(Array, type(Array))\n",
        "print(Array[2])\n",
        "\n",
        "# math operations with numpy\n",
        "Array = np.array([1,2,3,5])\n",
        "print(Array*2)\n",
        "print(Array-1)\n",
        "\n"
      ],
      "metadata": {
        "id": "LlUCJgKWzxIe"
      },
      "id": "LlUCJgKWzxIe",
      "execution_count": null,
      "outputs": []
    },
    {
      "cell_type": "code",
      "source": [
        "# Working with functions\n",
        "Array = np.array([1,2,3,5])\n",
        "\n",
        "# manually define functions\n",
        "def get_mean(values):\n",
        "    current_sum = 0\n",
        "    for i in values:\n",
        "        current_sum = current_sum + i\n",
        "    return i / len(Array)\n",
        "print(\"Manual Mean: \", get_mean(Array))\n",
        "\n",
        "# class functions\n",
        "print(\"Class Mean: \", np.mean(Array), \"Class STD: \", np.std(Array).round(2))"
      ],
      "metadata": {
        "id": "Mb5gIO3b0YT8"
      },
      "id": "Mb5gIO3b0YT8",
      "execution_count": null,
      "outputs": []
    },
    {
      "cell_type": "markdown",
      "source": [
        "## Working with datasets in Python"
      ],
      "metadata": {
        "id": "TsvcvVgmzeYc"
      },
      "id": "TsvcvVgmzeYc"
    },
    {
      "cell_type": "code",
      "execution_count": null,
      "id": "6c83c5e9",
      "metadata": {
        "id": "6c83c5e9"
      },
      "outputs": [],
      "source": [
        "# colleted_data\n",
        "import numpy as np\n",
        "import pandas as pd\n",
        "\n",
        "np.seed = 12345 # set controllable seed\n",
        "\n",
        "feedA = np.array([\n",
        "    0.1, 0.1, 0.1, 0.2, 0.2, 0.2, 0.2,\n",
        "    0.3,  0.3,  0.3, 0.4, 0.4, 0.4,\n",
        "    0.5, 0.5, 0.5\n",
        "]) # weight percentage\n",
        "feedB = 1-feedA # weight percentage\n",
        "permA = np.array([\n",
        "    0.8, 0.81, 0.82, 0.84, 0.85, 0.84,\n",
        "    0.84, 0.88, 0.87, 0.89, 0.9,\n",
        "    0.91, 0.891, 0.92, 0.91, 0.92,\n",
        "]) # weight percentage\n",
        "permB = 1-permA # weight percentage\n",
        "feedFlow = np.random.sample(len(feedA)) * 2000\n",
        "permFlow = np.random.sample(len(feedA)) * 500\n",
        "\n",
        "rawDF = pd.DataFrame(\n",
        "    data=np.array([feedA, feedB, permA, permB, feedFlow, permFlow]).T,\n",
        "    columns=[\"feedA\", \"feedB\", \"permA\", \"permB\", \"feedFlow\", \"permFlow\"]\n",
        ")\n",
        "rawDF"
      ]
    },
    {
      "cell_type": "code",
      "execution_count": null,
      "id": "03f7e57c",
      "metadata": {
        "id": "03f7e57c"
      },
      "outputs": [],
      "source": [
        "# calculate mean and std (built-in functions)\n",
        "# result = rawDF.groupby(['feedA'], as_index=False).agg(\n",
        "#     {'permA':['mean','std']}\n",
        "# )\n",
        "result = rawDF.groupby(['feedA'])['permA'].mean()\n",
        "result"
      ]
    },
    {
      "cell_type": "code",
      "execution_count": null,
      "id": "3c9365ec",
      "metadata": {
        "id": "3c9365ec"
      },
      "outputs": [],
      "source": [
        "# use a loop to calculate all means\n",
        "meansDF = pd.DataFrame()\n",
        "for group in [\"feedA\", \"feedB\", \"permA\", \"permB\", \"feedFlow\", \"permFlow\"]:\n",
        "    result = rawDF.groupby(['feedA'])[group].mean()\n",
        "    meansDF[group] = result\n",
        "meansDF"
      ]
    },
    {
      "cell_type": "code",
      "execution_count": null,
      "id": "825b5df9",
      "metadata": {
        "id": "825b5df9"
      },
      "outputs": [],
      "source": [
        "# use a loop to calculate all standard deviations\n",
        "for group in [\"feedA\", \"feedB\", \"permA\", \"permB\", \"feedFlow\", \"permFlow\"]:\n",
        "    result = rawDF.groupby(['feedA'])[group].std()\n",
        "    meansDF[group+\"_std\"] = result\n",
        "meansDF"
      ]
    },
    {
      "cell_type": "code",
      "execution_count": null,
      "id": "d17dbba7",
      "metadata": {
        "id": "d17dbba7"
      },
      "outputs": [],
      "source": [
        "# calculate parameters (make-your own functions)\n",
        "# selectivity\n",
        "def selectivity(permA):\n",
        "    \"\"\"Calculated membrane selectivity.\n",
        "    https://personalpages.manchester.ac.uk/staff/Peter.Budd/SELECTIVITY%20&%20PERMEABILITY.htm\n",
        "\n",
        "    selectivity_AB = permeabilityA/permeabilityB\n",
        "\n",
        "    permeabilityA = fluxA * membrane thickness / dPressure\n",
        "\n",
        "    selectivity = fluxA / fluxB\n",
        "    selectivity = permA * permFlow / (1-permA) / permFlow\n",
        "    selectivity = permA / (1-permA)\n",
        "    \"\"\"\n",
        "    return permA / (1-permA)\n",
        "meansDF[\"selectivity\"] = meansDF.apply(lambda x: selectivity(x['permA']), axis=1)\n",
        "meansDF"
      ]
    },
    {
      "cell_type": "code",
      "execution_count": null,
      "id": "89ca07f2",
      "metadata": {
        "id": "89ca07f2"
      },
      "outputs": [],
      "source": [
        "# propogate errors\n",
        "def selectivity_deviation(permAstd, permAmean):\n",
        "    \"\"\"Calculated membrane selectivity standard deviation.\n",
        "\n",
        "    Sources\n",
        "    https://chem.libretexts.org/Bookshelves/Analytical_Chemistry/Supplemental_Modules_(Analytical_Chemistry)/Quantifying_Nature/Significant_Digits/Propagation_of_Error\n",
        "    https://personalpages.manchester.ac.uk/staff/Peter.Budd/SELECTIVITY%20&%20PERMEABILITY.htm\n",
        "    variables = permA, permFlow\n",
        "    selectivity = \"permA*permFlow/(1-permA)/permFlow\"\n",
        "    selectivity = permA/(1-permA)\n",
        "    VAR(selectivity)/EXP(selectivity)**2 = (VAR(permA)/EXP(permA)**2) *2\n",
        "    VAR(selectivity) = 2 * (VAR(permA)/EXP(permA)**2) * EXP(selectivity)**2\n",
        "    VAR(X) = STD(X)**2\n",
        "    STD(selectivity) = sqrt(2) * STD(permA) * EXP(selectivity) / EXP(permA)\n",
        "    \"\"\"\n",
        "\n",
        "    return np.sqrt(2) * permAstd * selectivity(permAmean) / permAmean\n",
        "\n",
        "meansDF[\"selectivity_std\"] = meansDF.apply(lambda x: selectivity_deviation(x['permA_std'], x['permA']), axis=1)\n",
        "meansDF"
      ]
    },
    {
      "cell_type": "markdown",
      "id": "7c40b27a",
      "metadata": {
        "id": "7c40b27a"
      },
      "source": [
        "## Plot Real Data\n",
        "Data collected by Matthew Vasuta for fluorinated polymer systems."
      ]
    },
    {
      "cell_type": "code",
      "execution_count": null,
      "id": "fcaf837f",
      "metadata": {
        "id": "fcaf837f"
      },
      "outputs": [],
      "source": [
        "# Load data\n",
        "import pandas as pd\n",
        "\n",
        "df = pd.read_excel('plotting_in_python/data/7-2-24 Membrane Graphs.xlsx', header=1)\n",
        "df"
      ]
    },
    {
      "cell_type": "code",
      "execution_count": null,
      "id": "ff4ed37d",
      "metadata": {
        "id": "ff4ed37d"
      },
      "outputs": [],
      "source": [
        "# single scatter\n",
        "import plotly.io as pio\n",
        "import plotly.express as px\n",
        "\n",
        "pio.templates.default = \"simple_white\"\n",
        "fig = px.scatter(\n",
        "    df, x=\"% Fluor ination\", y=\"α\", color=\"β\",\n",
        "    error_y=\"Unnamed: 11\",\n",
        ")\n",
        "fig.update_traces(\n",
        "    marker=dict(size=16,\n",
        "    line=dict(width=2,\n",
        "    color='DarkSlateGrey')),\n",
        "    selector=dict(mode='markers')\n",
        ")\n",
        "fig.show(renderer=\"colab\")\n",
        "fig.write_image(\"figures/Selectivity-vs-permeability.pdf\")\n"
      ]
    },
    {
      "cell_type": "code",
      "execution_count": null,
      "id": "08200dfa",
      "metadata": {
        "id": "08200dfa"
      },
      "outputs": [],
      "source": [
        "# plotting multi-variate bits and bobs\n",
        "# https://www.kaggle.com/code/residentmario/multivariate-plotting\n",
        "from pandas.plotting import parallel_coordinates\n",
        "import matplotlib.pyplot as plt\n",
        "from matplotlib import colormaps as cm\n",
        "\n",
        "plot_xdata = [\n",
        "    '% Fluor ination', 'Total Flux (g/(m^2×h))',\n",
        "    'Water Permeance (GPU)', 'α', 'β', 'Percent EtOH'\n",
        "]\n",
        "\n",
        "normDF = df[plot_xdata[1:]].apply(lambda x: ((x.max() - x)/(x.max() - x.min())))\n",
        "legend_label = '% Fluor ination'\n",
        "normDF[legend_label] = df[legend_label]\n",
        "cmap = cm[\"plasma\"]\n",
        "ax = parallel_coordinates(\n",
        "    normDF[plot_xdata], legend_label, colormap=cmap\n",
        ")\n",
        "fig = ax.get_figure()\n",
        "ax.get_legend().remove()\n",
        "\n",
        "fig.legend(title=legend_label, loc=\"right\", bbox_to_anchor=[1.1,0.7])\n",
        "plt.xticks(rotation=30, ha=\"right\")\n",
        "fig.show()"
      ]
    }
  ],
  "metadata": {
    "kernelspec": {
      "display_name": "Python 3 (ipykernel)",
      "language": "python",
      "name": "python3"
    },
    "language_info": {
      "codemirror_mode": {
        "name": "ipython",
        "version": 3
      },
      "file_extension": ".py",
      "mimetype": "text/x-python",
      "name": "python",
      "nbconvert_exporter": "python",
      "pygments_lexer": "ipython3",
      "version": "3.11.0"
    },
    "colab": {
      "provenance": []
    }
  },
  "nbformat": 4,
  "nbformat_minor": 5
}