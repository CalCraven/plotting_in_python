{
  "cells": [
    {
      "cell_type": "markdown",
      "metadata": {
        "id": "wB6S5Z9XbLnu"
      },
      "source": [
        "<a href=\"https://colab.research.google.com/github/CalCraven/plotting_in_python/blob/main/plot-IR-Data.ipynb\" target=\"_parent\"><img src=\"https://colab.research.google.com/assets/colab-badge.svg\" alt=\"Open In Colab\"/></a>"
      ]
    },
    {
      "cell_type": "code",
      "execution_count": null,
      "metadata": {
        "id": "jThATi93bLnv"
      },
      "outputs": [],
      "source": [
        "!pip install -q condacolab\n",
        "import condacolab\n",
        "condacolab.install_miniforge()"
      ]
    },
    {
      "cell_type": "code",
      "execution_count": null,
      "metadata": {
        "id": "cqVpwxK5bLnv"
      },
      "outputs": [],
      "source": [
        "import condacolab\n",
        "condacolab.check()\n",
        "\n",
        "!conda install mamba -y\n",
        "!mamba install anaconda-client -n base -y\n",
        "\n",
        "!git clone https://github.com/CalCraven/plotting_in_python.git\n",
        "%cd plotting_in_python\n",
        "\n",
        "!pip install .\n",
        "%cd ..\n",
        "!pip install --upgrade ipykernel -y\n",
        "\n",
        "!mamba install -c conda-forge pandas plotly matplotlib numpy openpyxl jupyterlab scipy -y"
      ]
    },
    {
      "cell_type": "code",
      "execution_count": null,
      "metadata": {
        "id": "wlB2OMfw8kjs"
      },
      "outputs": [],
      "source": [
        "# Load data\n",
        "\n",
        "import pandas as pd\n",
        "\n",
        "df = pd.read_excel('plotting_in_python/data/9-9-24 pDCPD-b-pNBDAC Modified.xlsx')\n",
        "df"
      ]
    },
    {
      "cell_type": "code",
      "execution_count": null,
      "metadata": {
        "id": "6R_GTokn-a82"
      },
      "outputs": [],
      "source": [
        "# rename and slice columns of data\n",
        "df = df.rename(columns={\n",
        "    \"Unnamed: 0\": \"xaxis\",\n",
        "    \"Regular\": \"Sample1\",\n",
        "    \"Unnamed: 2\": \"Sample2\",\n",
        "    \"Unnamed: 3\": \"Sample3\",\n",
        "    \"Unnamed: 4\": \"Sample4\"\n",
        "})\n",
        "df = df.loc[:, :\"Sample4\"]\n",
        "df"
      ]
    },
    {
      "cell_type": "code",
      "execution_count": null,
      "metadata": {
        "id": "_mXhTVlkAVue"
      },
      "outputs": [],
      "source": [
        "# normalize and offset data\n",
        "cols_to_norm = [\"Sample1\", \"Sample2\", \"Sample3\", \"Sample4\"]\n",
        "# normalize data by using lambda function\n",
        "df[cols_to_norm] = df[cols_to_norm].apply(lambda x: (x - x.min()) / (x.max() - x.min()))\n",
        "for i, col in enumerate(cols_to_norm): # iterate through each column and add i to offset data points\n",
        "    df[col] = df[col].apply(lambda x: (x + i))"
      ]
    },
    {
      "cell_type": "code",
      "execution_count": null,
      "metadata": {
        "id": "L1Gz0zpjAL5L"
      },
      "outputs": [],
      "source": [
        "# plot IR\n",
        "df.plot(x=\"xaxis\", y=cols_to_norm, kind=\"line\", lw=3)"
      ]
    },
    {
      "cell_type": "code",
      "execution_count": null,
      "metadata": {
        "id": "yxxsaZsKAi77"
      },
      "outputs": [],
      "source": [
        "# use a package function to identify peaks\n",
        "import scipy\n",
        "\n",
        "peak_info = scipy.signal.find_peaks(\n",
        "    df[\"Sample1\"],\n",
        "    height=0.5, distance=100,\n",
        "    width=5\n",
        ")\n",
        "peak_info[1].keys()\n",
        "\n",
        "print(f\"Number of peaks found is {len(peak_info[0])}\\n\")"
      ]
    },
    {
      "cell_type": "code",
      "execution_count": null,
      "metadata": {
        "id": "LcQy0f5xBkcX"
      },
      "outputs": [],
      "source": [
        "# Automatically mark peaks and highlight chosen IR regions\n",
        "\n",
        "import matplotlib.pyplot as plt\n",
        "\n",
        "IR_RegionsDict = {\n",
        "    \"C-H\\nstrech\":[2971, 2863],\n",
        "    \"C-H\\nscissoring\":[1470],\n",
        "    \"C-H methyl rock\":[1383],\n",
        "    \"Long chain \\nmethyl rock\":[726]\n",
        "}\n",
        "# from https://courses.lumenlearning.com/suny-mcc-organicchemistry/chapter/infrared-spectra-of-some-common-functional-groups/\n",
        "ax = df.plot(x=\"xaxis\", y=cols_to_norm, kind=\"line\", lw=3)\n",
        "ax.invert_xaxis()\n",
        "\n",
        "xdata = df[\"xaxis\"]\n",
        "for center, height in zip(peak_info[0], peak_info[1][\"peak_heights\"]):\n",
        "    # use peaks to identify positions\n",
        "    xcenter = xdata[center]\n",
        "    # ax.axvspan(xcenter, x, color='red', alpha=0.5)\n",
        "    ax.scatter(xcenter, height, c=\"r\", s=30)\n",
        "\n",
        "max_IR = df[cols_to_norm].max(axis=None)\n",
        "vertical_label = [0,0, max_IR/8,0]\n",
        "i=0\n",
        "for key, values in IR_RegionsDict.items():\n",
        "    for region in values:\n",
        "        ax.axvspan(region-10, region+10, color='red', alpha=0.5,zorder=10)\n",
        "    ax.text(region-10, max_IR*1.1+vertical_label[i], s=key, zorder=11)\n",
        "    i = i+1\n",
        "\n",
        "fig = plt.gcf()\n",
        "ax.set_xlabel(\"Wave Numbers ($cm^{-1}$)\")\n",
        "ax.set_ylabel(\"Absorbance ($\\mathrm{a.u.}$)\")\n",
        "fig.savefig(\"plotting_in_python/figures/IRDATA.pdf\", dpi=200)\n",
        "fig.show()\n"
      ]
    },
    {
      "cell_type": "markdown",
      "metadata": {
        "id": "1zx4BwKgbLny"
      },
      "source": [
        "## Optional Exercises"
      ]
    },
    {
      "cell_type": "markdown",
      "metadata": {
        "id": "a6ACPPF0bLny"
      },
      "source": [
        "#### Exercise 1\n",
        "try to split the plot into 2, one from 3700 to 2700 cm^-1 and the other from 1900-900 cm^-1"
      ]
    },
    {
      "cell_type": "code",
      "execution_count": null,
      "metadata": {
        "id": "GCOorglybLny"
      },
      "outputs": [],
      "source": [
        "## CODE HERE ##\n"
      ]
    },
    {
      "cell_type": "markdown",
      "metadata": {
        "id": "6a0J10t5bLnz"
      },
      "source": [
        "### <font color=\"red\"><b>Hint</b></font>\n",
        "<details>\n",
        "  <summary>Click once to show hint!</summary>\n",
        "    df1 = df.loc[(df[\"xaxis\"] < 3700) & (df[\"xaxis\"] > 2700)]\n",
        "  \n",
        "</details>"
      ]
    },
    {
      "cell_type": "markdown",
      "metadata": {
        "id": "WPdaBhcQbLnz"
      },
      "source": [
        "#### Exercise 2\n",
        "try to rename the samples in the legend to [\"Polymer 1\", \"Polymer 2\", \"Polymer 3\", \"Polymer 4\"]"
      ]
    },
    {
      "cell_type": "code",
      "execution_count": null,
      "metadata": {
        "id": "I8DEiMXEbLnz"
      },
      "outputs": [],
      "source": [
        "## CODE HERE ##\n"
      ]
    },
    {
      "cell_type": "markdown",
      "metadata": {
        "id": "KWid7alRbLnz"
      },
      "source": [
        "### <font color=\"red\"><b>Hint</b></font>\n",
        "<details>\n",
        "  <summary>Click once to show hint!</summary>\n",
        "    https://stackoverflow.com/questions/23037548/change-main-plot-legend-label-text\n",
        "  \n",
        "\n",
        "\n",
        "</details>"
      ]
    },
    {
      "cell_type": "markdown",
      "metadata": {
        "id": "ZJdV-mpBbLnz"
      },
      "source": [
        "#### Exercise 3\n",
        "try to change the color labeling of each line on the plot"
      ]
    },
    {
      "cell_type": "code",
      "execution_count": null,
      "metadata": {
        "id": "eYOFVJL5bLnz"
      },
      "outputs": [],
      "source": [
        "## CODE HERE ##\n"
      ]
    },
    {
      "cell_type": "markdown",
      "metadata": {
        "id": "aIbIbuVsbLnz"
      },
      "source": [
        "### <font color=\"red\"><b>Hint</b></font>\n",
        "<details>\n",
        "  <summary>Click once to show answer!</summary>\n",
        "    \n",
        "    import numpy as np\n",
        "    from matplotlib import colormaps\n",
        "    print(list(colormaps))\n",
        "    cmap = colormaps[\"viridis\"]\n",
        "    # list_of_colors = cmap(np.linspace(0, 1, len(df.columns)))\n",
        "    list_of_colors = [\"red\", \"blue\", \"#5093ef\", (0.1,0.5,0.6)] # manually set colors\n",
        "    df.plot(x=\"xaxis\", y=cols_to_norm, kind=\"line\", lw=3, color=list_of_colors)\n",
        "  \n",
        "\n",
        "\n",
        "</details>"
      ]
    },
    {
      "cell_type": "markdown",
      "metadata": {
        "id": "zFFyy7fZbLnz"
      },
      "source": [
        "## More tutorials and resources\n",
        "* [general python tutorials](https://swcarpentry.github.io/python-novice-inflammation/)\n",
        "* [matplotlib tutorials](https://matplotlib.org/stable/tutorials/index.html)</br>\n",
        "* [pandas tutorials](https://pandas.pydata.org/docs/getting_started/tutorials.html)\n",
        "* [pandas plotting tutorials](https://realpython.com/pandas-plot-python/)\n",
        "* [plotly interactive plots tutorials](https://programminghistorian.org/en/lessons/interactive-visualization-with-plotly)\n",
        "* [3D plots](https://www.geeksforgeeks.org/three-dimensional-plotting-in-python-using-matplotlib/)\n",
        "* [heatmaps](https://python-graph-gallery.com/heatmap/)\n"
      ]
    },
    {
      "cell_type": "code",
      "source": [],
      "metadata": {
        "id": "Hyg0UhD1gapL"
      },
      "execution_count": null,
      "outputs": []
    }
  ],
  "metadata": {
    "colab": {
      "provenance": []
    },
    "kernelspec": {
      "display_name": "Python 3 (ipykernel)",
      "language": "python",
      "name": "python3"
    },
    "language_info": {
      "codemirror_mode": {
        "name": "ipython",
        "version": 3
      },
      "file_extension": ".py",
      "mimetype": "text/x-python",
      "name": "python",
      "nbconvert_exporter": "python",
      "pygments_lexer": "ipython3",
      "version": "3.11.0"
    }
  },
  "nbformat": 4,
  "nbformat_minor": 0
}