{
 "cells": [
  {
   "cell_type": "markdown",
   "metadata": {},
   "source": [
    "<a href=\\\"https://colab.research.google.com/github/CalCraven/plotting_in_python/blob/main/plot-IR-Data.ipynb\\\" target=\\\"_parent\\\"><img src=\\\"https://colab.research.google.com/assets/colab-badge.svg\\\" alt=\\\"Open In Colab\\\"/></a>"
   ]
  },
  {
   "cell_type": "code",
   "execution_count": null,
   "metadata": {},
   "outputs": [],
   "source": [
    "!pip install -q condacolab\n",
    "import condacolab\n",
    "condacolab.install_miniforge()"
   ]
  },
  {
   "cell_type": "code",
   "execution_count": null,
   "metadata": {},
   "outputs": [],
   "source": [
    "import condacolab\n",
    "condacolab.check()\n",
    "\n",
    "!conda install mamba -y\n",
    "!mamba install anaconda-client -n base -y\n",
    "\n",
    "!git clone https://github.com/CalCraven/plotting_in_python.git\n",
    "%cd plotting_in_python\n",
    "\n",
    "!pip install .\n",
    "%cd ..\n",
    "!pip install --upgrade ipykernel -y\n",
    "\n",
    "!mamba install -c conda-forge pandas plotly matplotlib numpy openpyxl -y"
   ]
  },
  {
   "cell_type": "code",
   "execution_count": 1,
   "metadata": {
    "colab": {
     "base_uri": "https://localhost:8080/",
     "height": 365
    },
    "id": "wlB2OMfw8kjs",
    "outputId": "21d90912-52b9-4cdd-a364-a7e875fb909e"
   },
   "outputs": [
    {
     "data": {
      "text/html": [
       "<div>\n",
       "<style scoped>\n",
       "    .dataframe tbody tr th:only-of-type {\n",
       "        vertical-align: middle;\n",
       "    }\n",
       "\n",
       "    .dataframe tbody tr th {\n",
       "        vertical-align: top;\n",
       "    }\n",
       "\n",
       "    .dataframe thead th {\n",
       "        text-align: right;\n",
       "    }\n",
       "</style>\n",
       "<table border=\"1\" class=\"dataframe\">\n",
       "  <thead>\n",
       "    <tr style=\"text-align: right;\">\n",
       "      <th></th>\n",
       "      <th>Unnamed: 0</th>\n",
       "      <th>Regular</th>\n",
       "      <th>Unnamed: 2</th>\n",
       "      <th>Unnamed: 3</th>\n",
       "      <th>Unnamed: 4</th>\n",
       "      <th>Normalized</th>\n",
       "      <th>Unnamed: 6</th>\n",
       "      <th>Unnamed: 7</th>\n",
       "      <th>Unnamed: 8</th>\n",
       "      <th>Scaled 1</th>\n",
       "      <th>Unnamed: 10</th>\n",
       "      <th>Unnamed: 11</th>\n",
       "      <th>Unnamed: 12</th>\n",
       "      <th>Scaled 2</th>\n",
       "      <th>Unnamed: 14</th>\n",
       "      <th>Unnamed: 15</th>\n",
       "      <th>Unnamed: 16</th>\n",
       "    </tr>\n",
       "  </thead>\n",
       "  <tbody>\n",
       "    <tr>\n",
       "      <th>0</th>\n",
       "      <td>399.9158</td>\n",
       "      <td>0.000000</td>\n",
       "      <td>0.000000</td>\n",
       "      <td>0.000000</td>\n",
       "      <td>0.000000</td>\n",
       "      <td>0.000000</td>\n",
       "      <td>0.000000</td>\n",
       "      <td>0.000000</td>\n",
       "      <td>0.000000</td>\n",
       "      <td>0.000000</td>\n",
       "      <td>0.050000</td>\n",
       "      <td>0.120000</td>\n",
       "      <td>0.170000</td>\n",
       "      <td>0.010000</td>\n",
       "      <td>0.080000</td>\n",
       "      <td>0.200000</td>\n",
       "      <td>0.300000</td>\n",
       "    </tr>\n",
       "    <tr>\n",
       "      <th>1</th>\n",
       "      <td>400.1569</td>\n",
       "      <td>0.000000</td>\n",
       "      <td>0.000000</td>\n",
       "      <td>0.000000</td>\n",
       "      <td>0.000000</td>\n",
       "      <td>0.000000</td>\n",
       "      <td>0.000000</td>\n",
       "      <td>0.000000</td>\n",
       "      <td>0.000000</td>\n",
       "      <td>0.000000</td>\n",
       "      <td>0.050000</td>\n",
       "      <td>0.120000</td>\n",
       "      <td>0.170000</td>\n",
       "      <td>0.010000</td>\n",
       "      <td>0.080000</td>\n",
       "      <td>0.200000</td>\n",
       "      <td>0.300000</td>\n",
       "    </tr>\n",
       "    <tr>\n",
       "      <th>2</th>\n",
       "      <td>400.3979</td>\n",
       "      <td>0.000000</td>\n",
       "      <td>0.000000</td>\n",
       "      <td>0.000000</td>\n",
       "      <td>0.000000</td>\n",
       "      <td>0.000000</td>\n",
       "      <td>0.000000</td>\n",
       "      <td>0.000000</td>\n",
       "      <td>0.000000</td>\n",
       "      <td>0.000000</td>\n",
       "      <td>0.050000</td>\n",
       "      <td>0.120000</td>\n",
       "      <td>0.170000</td>\n",
       "      <td>0.010000</td>\n",
       "      <td>0.080000</td>\n",
       "      <td>0.200000</td>\n",
       "      <td>0.300000</td>\n",
       "    </tr>\n",
       "    <tr>\n",
       "      <th>3</th>\n",
       "      <td>400.6390</td>\n",
       "      <td>0.000000</td>\n",
       "      <td>0.000000</td>\n",
       "      <td>0.000000</td>\n",
       "      <td>0.000000</td>\n",
       "      <td>0.000000</td>\n",
       "      <td>0.000000</td>\n",
       "      <td>0.000000</td>\n",
       "      <td>0.000000</td>\n",
       "      <td>0.000000</td>\n",
       "      <td>0.050000</td>\n",
       "      <td>0.120000</td>\n",
       "      <td>0.170000</td>\n",
       "      <td>0.010000</td>\n",
       "      <td>0.080000</td>\n",
       "      <td>0.200000</td>\n",
       "      <td>0.300000</td>\n",
       "    </tr>\n",
       "    <tr>\n",
       "      <th>4</th>\n",
       "      <td>400.8800</td>\n",
       "      <td>0.000000</td>\n",
       "      <td>0.000000</td>\n",
       "      <td>0.000000</td>\n",
       "      <td>0.000000</td>\n",
       "      <td>0.000000</td>\n",
       "      <td>0.000000</td>\n",
       "      <td>0.000000</td>\n",
       "      <td>0.000000</td>\n",
       "      <td>0.000000</td>\n",
       "      <td>0.050000</td>\n",
       "      <td>0.120000</td>\n",
       "      <td>0.170000</td>\n",
       "      <td>0.010000</td>\n",
       "      <td>0.080000</td>\n",
       "      <td>0.200000</td>\n",
       "      <td>0.300000</td>\n",
       "    </tr>\n",
       "    <tr>\n",
       "      <th>...</th>\n",
       "      <td>...</td>\n",
       "      <td>...</td>\n",
       "      <td>...</td>\n",
       "      <td>...</td>\n",
       "      <td>...</td>\n",
       "      <td>...</td>\n",
       "      <td>...</td>\n",
       "      <td>...</td>\n",
       "      <td>...</td>\n",
       "      <td>...</td>\n",
       "      <td>...</td>\n",
       "      <td>...</td>\n",
       "      <td>...</td>\n",
       "      <td>...</td>\n",
       "      <td>...</td>\n",
       "      <td>...</td>\n",
       "      <td>...</td>\n",
       "    </tr>\n",
       "    <tr>\n",
       "      <th>14931</th>\n",
       "      <td>3999.1580</td>\n",
       "      <td>-0.002477</td>\n",
       "      <td>-0.002126</td>\n",
       "      <td>-0.002262</td>\n",
       "      <td>-0.004668</td>\n",
       "      <td>-0.002477</td>\n",
       "      <td>-0.001003</td>\n",
       "      <td>-0.001111</td>\n",
       "      <td>-0.002222</td>\n",
       "      <td>-0.002477</td>\n",
       "      <td>0.048997</td>\n",
       "      <td>0.118889</td>\n",
       "      <td>0.167778</td>\n",
       "      <td>0.007523</td>\n",
       "      <td>0.078997</td>\n",
       "      <td>0.198889</td>\n",
       "      <td>0.297778</td>\n",
       "    </tr>\n",
       "    <tr>\n",
       "      <th>14932</th>\n",
       "      <td>3999.3990</td>\n",
       "      <td>-0.002475</td>\n",
       "      <td>-0.002129</td>\n",
       "      <td>-0.002264</td>\n",
       "      <td>-0.004674</td>\n",
       "      <td>-0.002475</td>\n",
       "      <td>-0.001005</td>\n",
       "      <td>-0.001112</td>\n",
       "      <td>-0.002225</td>\n",
       "      <td>-0.002475</td>\n",
       "      <td>0.048995</td>\n",
       "      <td>0.118888</td>\n",
       "      <td>0.167775</td>\n",
       "      <td>0.007525</td>\n",
       "      <td>0.078995</td>\n",
       "      <td>0.198888</td>\n",
       "      <td>0.297775</td>\n",
       "    </tr>\n",
       "    <tr>\n",
       "      <th>14933</th>\n",
       "      <td>3999.6400</td>\n",
       "      <td>-0.002479</td>\n",
       "      <td>-0.002135</td>\n",
       "      <td>-0.002270</td>\n",
       "      <td>-0.004688</td>\n",
       "      <td>-0.002479</td>\n",
       "      <td>-0.001008</td>\n",
       "      <td>-0.001115</td>\n",
       "      <td>-0.002231</td>\n",
       "      <td>-0.002479</td>\n",
       "      <td>0.048992</td>\n",
       "      <td>0.118885</td>\n",
       "      <td>0.167769</td>\n",
       "      <td>0.007521</td>\n",
       "      <td>0.078992</td>\n",
       "      <td>0.198885</td>\n",
       "      <td>0.297769</td>\n",
       "    </tr>\n",
       "    <tr>\n",
       "      <th>14934</th>\n",
       "      <td>3999.8810</td>\n",
       "      <td>-0.002488</td>\n",
       "      <td>-0.002145</td>\n",
       "      <td>-0.002279</td>\n",
       "      <td>-0.004709</td>\n",
       "      <td>-0.002488</td>\n",
       "      <td>-0.001012</td>\n",
       "      <td>-0.001119</td>\n",
       "      <td>-0.002241</td>\n",
       "      <td>-0.002488</td>\n",
       "      <td>0.048988</td>\n",
       "      <td>0.118881</td>\n",
       "      <td>0.167759</td>\n",
       "      <td>0.007512</td>\n",
       "      <td>0.078988</td>\n",
       "      <td>0.198881</td>\n",
       "      <td>0.297759</td>\n",
       "    </tr>\n",
       "    <tr>\n",
       "      <th>14935</th>\n",
       "      <td>4000.1220</td>\n",
       "      <td>0.000000</td>\n",
       "      <td>0.000000</td>\n",
       "      <td>0.000000</td>\n",
       "      <td>0.000000</td>\n",
       "      <td>0.000000</td>\n",
       "      <td>0.000000</td>\n",
       "      <td>0.000000</td>\n",
       "      <td>0.000000</td>\n",
       "      <td>0.000000</td>\n",
       "      <td>0.050000</td>\n",
       "      <td>0.120000</td>\n",
       "      <td>0.170000</td>\n",
       "      <td>0.010000</td>\n",
       "      <td>0.080000</td>\n",
       "      <td>0.200000</td>\n",
       "      <td>0.300000</td>\n",
       "    </tr>\n",
       "  </tbody>\n",
       "</table>\n",
       "<p>14936 rows × 17 columns</p>\n",
       "</div>"
      ],
      "text/plain": [
       "       Unnamed: 0   Regular  Unnamed: 2  Unnamed: 3  Unnamed: 4  Normalized   \n",
       "0        399.9158  0.000000    0.000000    0.000000    0.000000    0.000000  \\\n",
       "1        400.1569  0.000000    0.000000    0.000000    0.000000    0.000000   \n",
       "2        400.3979  0.000000    0.000000    0.000000    0.000000    0.000000   \n",
       "3        400.6390  0.000000    0.000000    0.000000    0.000000    0.000000   \n",
       "4        400.8800  0.000000    0.000000    0.000000    0.000000    0.000000   \n",
       "...           ...       ...         ...         ...         ...         ...   \n",
       "14931   3999.1580 -0.002477   -0.002126   -0.002262   -0.004668   -0.002477   \n",
       "14932   3999.3990 -0.002475   -0.002129   -0.002264   -0.004674   -0.002475   \n",
       "14933   3999.6400 -0.002479   -0.002135   -0.002270   -0.004688   -0.002479   \n",
       "14934   3999.8810 -0.002488   -0.002145   -0.002279   -0.004709   -0.002488   \n",
       "14935   4000.1220  0.000000    0.000000    0.000000    0.000000    0.000000   \n",
       "\n",
       "       Unnamed: 6  Unnamed: 7  Unnamed: 8  Scaled 1  Unnamed: 10  Unnamed: 11   \n",
       "0        0.000000    0.000000    0.000000  0.000000     0.050000     0.120000  \\\n",
       "1        0.000000    0.000000    0.000000  0.000000     0.050000     0.120000   \n",
       "2        0.000000    0.000000    0.000000  0.000000     0.050000     0.120000   \n",
       "3        0.000000    0.000000    0.000000  0.000000     0.050000     0.120000   \n",
       "4        0.000000    0.000000    0.000000  0.000000     0.050000     0.120000   \n",
       "...           ...         ...         ...       ...          ...          ...   \n",
       "14931   -0.001003   -0.001111   -0.002222 -0.002477     0.048997     0.118889   \n",
       "14932   -0.001005   -0.001112   -0.002225 -0.002475     0.048995     0.118888   \n",
       "14933   -0.001008   -0.001115   -0.002231 -0.002479     0.048992     0.118885   \n",
       "14934   -0.001012   -0.001119   -0.002241 -0.002488     0.048988     0.118881   \n",
       "14935    0.000000    0.000000    0.000000  0.000000     0.050000     0.120000   \n",
       "\n",
       "       Unnamed: 12  Scaled 2  Unnamed: 14  Unnamed: 15  Unnamed: 16  \n",
       "0         0.170000  0.010000     0.080000     0.200000     0.300000  \n",
       "1         0.170000  0.010000     0.080000     0.200000     0.300000  \n",
       "2         0.170000  0.010000     0.080000     0.200000     0.300000  \n",
       "3         0.170000  0.010000     0.080000     0.200000     0.300000  \n",
       "4         0.170000  0.010000     0.080000     0.200000     0.300000  \n",
       "...            ...       ...          ...          ...          ...  \n",
       "14931     0.167778  0.007523     0.078997     0.198889     0.297778  \n",
       "14932     0.167775  0.007525     0.078995     0.198888     0.297775  \n",
       "14933     0.167769  0.007521     0.078992     0.198885     0.297769  \n",
       "14934     0.167759  0.007512     0.078988     0.198881     0.297759  \n",
       "14935     0.170000  0.010000     0.080000     0.200000     0.300000  \n",
       "\n",
       "[14936 rows x 17 columns]"
      ]
     },
     "execution_count": 1,
     "metadata": {},
     "output_type": "execute_result"
    }
   ],
   "source": [
    "# Load data\n",
    "\n",
    "import pandas as pd\n",
    "\n",
    "df = pd.read_excel('data/9-9-24 pDCPD-b-pNBDAC Modified.xlsx')\n",
    "df"
   ]
  },
  {
   "cell_type": "code",
   "execution_count": null,
   "metadata": {
    "id": "1at9ZT4DPg2p"
   },
   "outputs": [],
   "source": [
    "from google.colab import drive\n",
    "drive.mount('/content/gdrive/python_tutorials')"
   ]
  },
  {
   "cell_type": "code",
   "execution_count": 2,
   "metadata": {
    "colab": {
     "base_uri": "https://localhost:8080/",
     "height": 424
    },
    "id": "6R_GTokn-a82",
    "outputId": "23f99964-bdc9-4142-8a2d-bad890b6367b"
   },
   "outputs": [
    {
     "data": {
      "text/html": [
       "<div>\n",
       "<style scoped>\n",
       "    .dataframe tbody tr th:only-of-type {\n",
       "        vertical-align: middle;\n",
       "    }\n",
       "\n",
       "    .dataframe tbody tr th {\n",
       "        vertical-align: top;\n",
       "    }\n",
       "\n",
       "    .dataframe thead th {\n",
       "        text-align: right;\n",
       "    }\n",
       "</style>\n",
       "<table border=\"1\" class=\"dataframe\">\n",
       "  <thead>\n",
       "    <tr style=\"text-align: right;\">\n",
       "      <th></th>\n",
       "      <th>xaxis</th>\n",
       "      <th>Sample1</th>\n",
       "      <th>Sample2</th>\n",
       "      <th>Sample3</th>\n",
       "      <th>Sample4</th>\n",
       "    </tr>\n",
       "  </thead>\n",
       "  <tbody>\n",
       "    <tr>\n",
       "      <th>0</th>\n",
       "      <td>399.9158</td>\n",
       "      <td>0.000000</td>\n",
       "      <td>0.000000</td>\n",
       "      <td>0.000000</td>\n",
       "      <td>0.000000</td>\n",
       "    </tr>\n",
       "    <tr>\n",
       "      <th>1</th>\n",
       "      <td>400.1569</td>\n",
       "      <td>0.000000</td>\n",
       "      <td>0.000000</td>\n",
       "      <td>0.000000</td>\n",
       "      <td>0.000000</td>\n",
       "    </tr>\n",
       "    <tr>\n",
       "      <th>2</th>\n",
       "      <td>400.3979</td>\n",
       "      <td>0.000000</td>\n",
       "      <td>0.000000</td>\n",
       "      <td>0.000000</td>\n",
       "      <td>0.000000</td>\n",
       "    </tr>\n",
       "    <tr>\n",
       "      <th>3</th>\n",
       "      <td>400.6390</td>\n",
       "      <td>0.000000</td>\n",
       "      <td>0.000000</td>\n",
       "      <td>0.000000</td>\n",
       "      <td>0.000000</td>\n",
       "    </tr>\n",
       "    <tr>\n",
       "      <th>4</th>\n",
       "      <td>400.8800</td>\n",
       "      <td>0.000000</td>\n",
       "      <td>0.000000</td>\n",
       "      <td>0.000000</td>\n",
       "      <td>0.000000</td>\n",
       "    </tr>\n",
       "    <tr>\n",
       "      <th>...</th>\n",
       "      <td>...</td>\n",
       "      <td>...</td>\n",
       "      <td>...</td>\n",
       "      <td>...</td>\n",
       "      <td>...</td>\n",
       "    </tr>\n",
       "    <tr>\n",
       "      <th>14931</th>\n",
       "      <td>3999.1580</td>\n",
       "      <td>-0.002477</td>\n",
       "      <td>-0.002126</td>\n",
       "      <td>-0.002262</td>\n",
       "      <td>-0.004668</td>\n",
       "    </tr>\n",
       "    <tr>\n",
       "      <th>14932</th>\n",
       "      <td>3999.3990</td>\n",
       "      <td>-0.002475</td>\n",
       "      <td>-0.002129</td>\n",
       "      <td>-0.002264</td>\n",
       "      <td>-0.004674</td>\n",
       "    </tr>\n",
       "    <tr>\n",
       "      <th>14933</th>\n",
       "      <td>3999.6400</td>\n",
       "      <td>-0.002479</td>\n",
       "      <td>-0.002135</td>\n",
       "      <td>-0.002270</td>\n",
       "      <td>-0.004688</td>\n",
       "    </tr>\n",
       "    <tr>\n",
       "      <th>14934</th>\n",
       "      <td>3999.8810</td>\n",
       "      <td>-0.002488</td>\n",
       "      <td>-0.002145</td>\n",
       "      <td>-0.002279</td>\n",
       "      <td>-0.004709</td>\n",
       "    </tr>\n",
       "    <tr>\n",
       "      <th>14935</th>\n",
       "      <td>4000.1220</td>\n",
       "      <td>0.000000</td>\n",
       "      <td>0.000000</td>\n",
       "      <td>0.000000</td>\n",
       "      <td>0.000000</td>\n",
       "    </tr>\n",
       "  </tbody>\n",
       "</table>\n",
       "<p>14936 rows × 5 columns</p>\n",
       "</div>"
      ],
      "text/plain": [
       "           xaxis   Sample1   Sample2   Sample3   Sample4\n",
       "0       399.9158  0.000000  0.000000  0.000000  0.000000\n",
       "1       400.1569  0.000000  0.000000  0.000000  0.000000\n",
       "2       400.3979  0.000000  0.000000  0.000000  0.000000\n",
       "3       400.6390  0.000000  0.000000  0.000000  0.000000\n",
       "4       400.8800  0.000000  0.000000  0.000000  0.000000\n",
       "...          ...       ...       ...       ...       ...\n",
       "14931  3999.1580 -0.002477 -0.002126 -0.002262 -0.004668\n",
       "14932  3999.3990 -0.002475 -0.002129 -0.002264 -0.004674\n",
       "14933  3999.6400 -0.002479 -0.002135 -0.002270 -0.004688\n",
       "14934  3999.8810 -0.002488 -0.002145 -0.002279 -0.004709\n",
       "14935  4000.1220  0.000000  0.000000  0.000000  0.000000\n",
       "\n",
       "[14936 rows x 5 columns]"
      ]
     },
     "execution_count": 2,
     "metadata": {},
     "output_type": "execute_result"
    }
   ],
   "source": [
    "# rename and slice columns of data\n",
    "df = df.rename(columns={\n",
    "    \"Unnamed: 0\": \"xaxis\",\n",
    "    \"Regular\": \"Sample1\",\n",
    "    \"Unnamed: 2\": \"Sample2\",\n",
    "    \"Unnamed: 3\": \"Sample3\",\n",
    "    \"Unnamed: 4\": \"Sample4\"\n",
    "})\n",
    "df = df.loc[:, :\"Sample4\"]\n",
    "df"
   ]
  },
  {
   "cell_type": "code",
   "execution_count": 4,
   "metadata": {
    "id": "_mXhTVlkAVue"
   },
   "outputs": [],
   "source": [
    "# normalize and offset data\n",
    "cols_to_norm = [\"Sample1\", \"Sample2\", \"Sample3\", \"Sample4\"]\n",
    "# normalize data by using lambda function\n",
    "df[cols_to_norm] = df[cols_to_norm].apply(lambda x: (x - x.min()) / (x.max() - x.min()))\n",
    "for i, col in enumerate(cols_to_norm): # iterate through each column and add i to offset data points\n",
    "    df[col] = df[col].apply(lambda x: (x + i))"
   ]
  },
  {
   "cell_type": "code",
   "execution_count": 5,
   "metadata": {
    "colab": {
     "base_uri": "https://localhost:8080/",
     "height": 467
    },
    "id": "L1Gz0zpjAL5L",
    "outputId": "f704d6d4-9ae0-4232-c0ce-7f29a021835e"
   },
   "outputs": [
    {
     "data": {
      "text/plain": [
       "<Axes: xlabel='xaxis'>"
      ]
     },
     "execution_count": 5,
     "metadata": {},
     "output_type": "execute_result"
    },
    {
     "data": {
      "image/png": "[encoded data removed]",
      "text/plain": [
       "<Figure size 640x480 with 1 Axes>"
      ]
     },
     "metadata": {},
     "output_type": "display_data"
    }
   ],
   "source": [
    "# plot IR\n",
    "df.plot(x=\"xaxis\", y=cols_to_norm, kind=\"line\", lw=3)"
   ]
  },
  {
   "cell_type": "code",
   "execution_count": null,
   "metadata": {
    "id": "85YL1ivBDmdQ"
   },
   "outputs": [],
   "source": [
    "# plot into two section plots"
   ]
  },
  {
   "cell_type": "code",
   "execution_count": null,
   "metadata": {
    "id": "5h78WzfZATx0"
   },
   "outputs": [],
   "source": [
    "# plot IR with labels"
   ]
  },
  {
   "cell_type": "code",
   "execution_count": null,
   "metadata": {
    "colab": {
     "base_uri": "https://localhost:8080/"
    },
    "id": "yxxsaZsKAi77",
    "outputId": "8c3e23fd-92b0-4680-e610-7af2b6447712"
   },
   "outputs": [
    {
     "name": "stdout",
     "output_type": "stream",
     "text": [
      "Number of peaks found is 4\n",
      "\n"
     ]
    },
    {
     "data": {
      "text/plain": [
       "dict_keys(['peak_heights', 'prominences', 'left_bases', 'right_bases', 'widths', 'width_heights', 'left_ips', 'right_ips'])"
      ]
     },
     "execution_count": 67,
     "metadata": {},
     "output_type": "execute_result"
    }
   ],
   "source": [
    "# use a function to identify peaks\n",
    "import scipy\n",
    "\n",
    "peak_info = scipy.signal.find_peaks(\n",
    "    df[\"Sample1\"],\n",
    "    height=0.5, distance=1000,\n",
    "    width=10\n",
    ")\n",
    "print(f\"Number of peaks found is {len(peak_info[0])}\\n\")\n",
    "peak_info[1].keys()"
   ]
  },
  {
   "cell_type": "code",
   "execution_count": null,
   "metadata": {
    "colab": {
     "base_uri": "https://localhost:8080/"
    },
    "id": "oUKAKoUnGjid",
    "outputId": "9aeb6a01-c129-4323-b359-62c9b12e93cc"
   },
   "outputs": [
    {
     "data": {
      "text/plain": [
       "(array([ 1254,  1367,  1458,  2091,  2244,  2359,  2752,  4351, 10149,\n",
       "        10325, 10467]),\n",
       " {'peak_heights': array([0.99836737, 1.        , 0.81089083, 0.6066944 , 0.66567258,\n",
       "         0.90499633, 0.58657613, 0.54314521, 0.65524086, 0.57963856,\n",
       "         0.65103561]),\n",
       "  'prominences': array([0.0580685 , 0.97464566, 0.2078797 , 0.23113786, 0.21006552,\n",
       "         0.85981521, 0.57013612, 0.42960259, 0.64360496, 0.03054553,\n",
       "         0.14470011]),\n",
       "  'left_bases': array([ 1036,  1036,  1413,  1912,  1912,  1912,  2478,  3127,  8040,\n",
       "         10219, 10219]),\n",
       "  'right_bases': array([ 1306, 14694,  1912,  2144,  2281, 14694,  8040,  8040, 14694,\n",
       "         10376, 14694]),\n",
       "  'widths': array([ 42.96385285, 351.76455244,  42.46858517,  55.97819981,\n",
       "          34.04863051, 110.79106543, 288.1915994 , 281.63945017,\n",
       "         618.03525618,  58.11031605,  97.13968512]),\n",
       "  'width_heights': array([0.96933312, 0.51267717, 0.70695098, 0.49112547, 0.56063982,\n",
       "         0.47508872, 0.30150807, 0.32834392, 0.33343838, 0.5643658 ,\n",
       "         0.57868556]),\n",
       "  'left_ips': array([ 1237.20477816,  1141.15602707,  1433.26437642,  2057.98509138,\n",
       "          2226.59372914,  2293.08730068,  2575.05386338,  4097.06305525,\n",
       "          9962.72658142, 10296.24056811, 10407.87072019]),\n",
       "  'right_ips': array([ 1280.16863101,  1492.92057951,  1475.7329616 ,  2113.9632912 ,\n",
       "          2260.64235966,  2403.87836611,  2863.24546278,  4378.70250541,\n",
       "         10580.7618376 , 10354.35088415, 10505.01040531])})"
      ]
     },
     "execution_count": 64,
     "metadata": {},
     "output_type": "execute_result"
    }
   ],
   "source": [
    "peak_info"
   ]
  },
  {
   "cell_type": "code",
   "execution_count": null,
   "metadata": {
    "id": "Oq9IF-yxAeVj"
   },
   "outputs": [],
   "source": [
    "# use a function to get the peak area"
   ]
  },
  {
   "cell_type": "code",
   "execution_count": null,
   "metadata": {
    "colab": {
     "base_uri": "https://localhost:8080/",
     "height": 449
    },
    "id": "LcQy0f5xBkcX",
    "outputId": "02d95bb6-525b-4ee8-a939-5aba3a6422a1"
   },
   "outputs": [
    {
     "data": {
      "image/png": "[encoded data removed]",
      "text/plain": [
       "<Figure size 640x480 with 1 Axes>"
      ]
     },
     "metadata": {},
     "output_type": "display_data"
    }
   ],
   "source": [
    "# Automatically mark peaks and highlight chosen IR regions\n",
    "import matplotlib.pyplot as plt\n",
    "\n",
    "IR_RegionsDict = {\n",
    "\n",
    "}\n",
    "# fig, ax = plt.subplots()\n",
    "ax = df.plot(x=\"xaxis\", y=cols_to_norm, kind=\"line\", lw=3)\n",
    "\n",
    "xdata = df[\"xaxis\"]\n",
    "for center, height in zip(peak_info[0], peak_info[1][\"peak_heights\"]):\n",
    "  xcenter = xdata[center]\n",
    "  # ax.axvspan(xcenter, x, color='red', alpha=0.5)\n",
    "  ax.scatter(xcenter, height, c=\"r\", s=30)\n",
    "fig.show()\n"
   ]
  },
  {
   "cell_type": "code",
   "execution_count": null,
   "metadata": {
    "id": "TX8U9b3fF345"
   },
   "outputs": [],
   "source": [
    "# Prettify with images of molecules"
   ]
  },
  {
   "cell_type": "code",
   "execution_count": null,
   "metadata": {
    "id": "NCA_DMexAo4v"
   },
   "outputs": [],
   "source": [
    "# plot onto dataframe"
   ]
  },
  {
   "cell_type": "code",
   "execution_count": null,
   "metadata": {
    "id": "do5nmh1VAXHX"
   },
   "outputs": [],
   "source": [
    "# other cool pandas dataset to plot"
   ]
  }
 ],
 "metadata": {
  "colab": {
   "provenance": []
  },
  "kernelspec": {
   "display_name": "Python 3 (ipykernel)",
   "language": "python",
   "name": "python3"
  },
  "language_info": {
   "codemirror_mode": {
    "name": "ipython",
    "version": 3
   },
   "file_extension": ".py",
   "mimetype": "text/x-python",
   "name": "python",
   "nbconvert_exporter": "python",
   "pygments_lexer": "ipython3",
   "version": "3.11.0"
  }
 },
 "nbformat": 4,
 "nbformat_minor": 1
}
